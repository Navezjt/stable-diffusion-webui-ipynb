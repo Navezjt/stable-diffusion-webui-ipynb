{
 "cells": [
  {
   "attachments": {},
   "cell_type": "markdown",
   "metadata": {},
   "source": [
    "# XFormers Builder\n",
    "\n",
    "If you are using Google Colab, there are many precompiled wheels for you to choose from. If you are using something else or want to build from source, you can use this notebook to build the library.\n",
    "\n",
    "More info: https://github.com/wibus-wee/stable_diffusion_chilloutmix_ipynb\n",
    "\n",
    "> Created by [@wibus-wee](https://github.com/wibus-wee)\n",
    ">\n",
    "> Reference: [camenduru/stable-diffusion-webui-colab](https://github.com/camenduru/stable-diffusion-webui-colab)"
   ]
  },
  {
   "cell_type": "code",
   "execution_count": null,
   "metadata": {},
   "outputs": [],
   "source": [
    "#@title Install dependencies & Build xformers\n",
    "\n",
    "#@markdown Operating directory\n",
    "#@markdown If you are running this notebook on Google Colab, you can input \"/content\" as the working directory. Or you are running this notebook on Paperspace, you can input \"/tmp\" as the working directory.\n",
    "working_dir = \"/tmp\" #@param {type:\"string\"}\n",
    "\n",
    "#@markdown Output\n",
    "#@markdown If you are running this notebook on Paperspace, you can input \"/notebook\" as the output directory.\n",
    "output = \"/notebook/xformers\" #@param {type:\"string\"}\n",
    "\n",
    "%cd {working_dir}\n",
    "!pip install --upgrade setuptools\n",
    "!pip install ninja\n",
    "!git clone https://github.com/facebookresearch/xformers\n",
    "%cd xformers\n",
    "!git submodule update --init --recursive\n",
    "!pip install -r requirements.txt\n",
    "\n",
    "!python setup.py sdist bdist_wheel --universal\n",
    "!mv dist {output}"
   ]
  }
 ],
 "metadata": {
  "language_info": {
   "name": "python"
  },
  "orig_nbformat": 4
 },
 "nbformat": 4,
 "nbformat_minor": 2
}
