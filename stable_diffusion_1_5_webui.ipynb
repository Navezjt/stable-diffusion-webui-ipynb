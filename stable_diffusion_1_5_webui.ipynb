{
  "cells": [
    {
      "cell_type": "markdown",
      "metadata": {
        "id": "SKi-oMBwhutR"
      },
      "source": [
        "# AUTOMATIC1111 Stable Diffusion WebUI 1.5 + ChilloutMix Checkpoint\n",
        "\n",
        "More info: https://github.com/wibus-wee/stable_diffusion_chilloutmix_colab\n",
        "\n",
        "> Created by [@wibus-wee](https://github.com/wibus-wee)\n",
        ">\n",
        "> Reference: [camenduru/stable-diffusion-webui-colab](https://github.com/camenduru/stable-diffusion-webui-colab)"
      ]
    },
    {
      "cell_type": "markdown",
      "metadata": {
        "id": "EAUqpJbMpXRR"
      },
      "source": [
        "# 第一次使用"
      ]
    },
    {
      "cell_type": "code",
      "execution_count": null,
      "metadata": {
        "id": "SaAJk33ppFw1"
      },
      "outputs": [],
      "source": [
        "import os, subprocess\n",
        "\n",
        "colab_t4 = False\n",
        "try:\n",
        "    subprocess.run(['nvidia-smi', '--query-gpu=name', '--format=csv,noheader'], stdout=subprocess.PIPE)\n",
        "    if 't4' in v_card_name.lower():\n",
        "        colab_t4 = True\n",
        "except:\n",
        "    pass\n",
        "\n",
        "!apt-get -y install -qq aria2\n",
        "ariaInstalled = False\n",
        "\n",
        "try:\n",
        "    subprocess.run(['aria2c', '--version'], stdout=subprocess.PIPE)\n",
        "    ariaInstalled = True\n",
        "except:\n",
        "    pass\n",
        "\n",
        "if colab_t4:\n",
        "  !pip install -q https://github.com/camenduru/stable-diffusion-webui-colab/releases/download/0.0.16/xformers-0.0.16+814314d.d20230118-cp38-cp38-linux_x86_64.whl\n",
        "  !pip install -q --pre triton\n",
        "\n",
        "!git clone -b v2.0 https://github.com/camenduru/stable-diffusion-webui\n",
        "!wget https://raw.githubusercontent.com/camenduru/stable-diffusion-webui-scripts/main/run_n_times.py -O /content/stable-diffusion-webui/scripts/run_n_times.py\n",
        "!git clone https://github.com/deforum-art/deforum-for-automatic1111-webui /content/stable-diffusion-webui/extensions/deforum-for-automatic1111-webui\n",
        "!git clone https://github.com/AlUlkesh/stable-diffusion-webui-images-browser /content/stable-diffusion-webui/extensions/stable-diffusion-webui-images-browser\n",
        "!git clone https://github.com/camenduru/stable-diffusion-webui-huggingface /content/stable-diffusion-webui/extensions/stable-diffusion-webui-huggingface\n",
        "!git clone -b v2.0 https://github.com/camenduru/sd-civitai-browser /content/stable-diffusion-webui/extensions/sd-civitai-browser\n",
        "!git clone https://github.com/kohya-ss/sd-webui-additional-networks /content/stable-diffusion-webui/extensions/sd-webui-additional-networks\n",
        "\n",
        "%cd /content/stable-diffusion-webui\n",
        "\n",
        "checkpoint = 'chilloutmix.safetensors'\n",
        "# checkpoint = 'sunshinemix.safetensors'\n",
        "# checkpoint = 'grapefruitHentaiModel_grapefruitv4.safetensors'\n",
        "\n",
        "\n",
        "downloadLink = {\n",
        "    'chilloutmix.safetensors': 'https://civitai.com/api/download/models/11745',\n",
        "    'sunshinemix.safetensors': 'https://civitai.com/api/download/models/11752',\n",
        "    'grapefruitHentaiModel_grapefruitv4.safetensors': 'https://civitai.com/api/download/models/9000'\n",
        "}\n",
        "if ariaInstalled:\n",
        "    !aria2c --console-log-level=error -c -x 16 -s 16 -k 1M {downloadLink[checkpoint]} -d /content/stable-diffusion-webui/models/Stable-diffusion -o {checkpoint}\n",
        "else:\n",
        "    !wget -c {downloadLink[checkpoint]} -P /content/stable-diffusion-webui/models/Stable-diffusion\n",
        "\n",
        "!sed -i -e '''/prepare_environment()/a\\    os.system\\(f\\\"\"\"sed -i -e ''\\\"s/self.logvar\\\\[t\\\\]/self.logvar\\\\[t.item()\\\\]/g\\\"'' /content/stable-diffusion-webui/repositories/stable-diffusion-stability-ai/ldm/models/diffusion/ddpm.py\"\"\")''' /content/stable-diffusion-webui/launch.py\n",
        "!sed -i -e '''/prepare_environment()/a\\    os.system\\(f\\\"\"\"sed -i -e ''\\\"s/dict()))/dict())).cuda()/g\\\"'' /content/stable-diffusion-webui/repositories/stable-diffusion-stability-ai/ldm/util.py\"\"\")''' /content/stable-diffusion-webui/launch.py\n",
        "!python launch.py --share --enable-insecure-extension-access {'' if colab_t4 else '--xformers'}"
      ]
    },
    {
      "cell_type": "markdown",
      "metadata": {
        "id": "SEQh1nJopSDr"
      },
      "source": [
        "# 中途突然停止使用这个"
      ]
    },
    {
      "cell_type": "code",
      "execution_count": null,
      "metadata": {
        "id": "UilfY37zpOoK"
      },
      "outputs": [],
      "source": [
        "!sed -i -e '''/prepare_environment()/a\\    os.system\\(f\\\"\"\"sed -i -e ''\\\"s/self.logvar\\\\[t\\\\]/self.logvar\\\\[t.item()\\\\]/g\\\"'' /content/stable-diffusion-webui/repositories/stable-diffusion-stability-ai/ldm/models/diffusion/ddpm.py\"\"\")''' /content/stable-diffusion-webui/launch.py\n",
        "!sed -i -e '''/prepare_environment()/a\\    os.system\\(f\\\"\"\"sed -i -e ''\\\"s/dict()))/dict())).cuda()/g\\\"'' /content/stable-diffusion-webui/repositories/stable-diffusion-stability-ai/ldm/util.py\"\"\")''' /content/stable-diffusion-webui/launch.py\n",
        "!python launch.py --share --xformers --enable-insecure-extension-access"
      ]
    }
  ],
  "metadata": {
    "accelerator": "GPU",
    "colab": {
      "collapsed_sections": [
        "SEQh1nJopSDr"
      ],
      "private_outputs": true,
      "provenance": []
    },
    "gpuClass": "standard",
    "kernelspec": {
      "display_name": "Python 3",
      "name": "python3"
    },
    "language_info": {
      "name": "python"
    }
  },
  "nbformat": 4,
  "nbformat_minor": 0
}
