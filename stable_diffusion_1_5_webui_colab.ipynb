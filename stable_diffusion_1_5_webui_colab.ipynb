{
  "cells": [
    {
      "cell_type": "markdown",
      "source": [
        "# AUTOMATIC1111 Stable Diffusion WebUI 1.5 + ChilloutMix Checkpoint\n",
        "\n",
        "## Loras\n",
        "\n",
        "- `(x1)` 「兼容性极佳」St. Louis (Luxurious Wheels) (Azur Lane): https://civitai.com/models/6669/st-louis-luxurious-wheels-azur-lane\n",
        "- `(x0.5)` 「兼容性优秀」Korean Doll Likeness: https://civitai.com/models/7448/korean-doll-likeness\n",
        "- `(x0.5)` 「兼容性中等」Taiwan Doll Likeness  : https://civitai.com/models/7716/taiwan-doll-likeness\n",
        "- `(x0.5)` 「兼容性中等」Yae Miko | Realistic Genshin (Mixed): https://civitai.com/models/8484/yae-miko-or-realistic-genshin\n",
        "\n",
        "## Checkpoints\n",
        "\n",
        "- [三次元] ChilloutMix: https://civitai.com/models/6424/chilloutmix\n",
        "\n",
        "- [二点五次元] SunshineMix (偏向插画类): https://civitai.com/models/9291/sunshinemix\n",
        "\n",
        "## 试验性 Lora\n",
        "\n",
        "> 需要更多实践测试，部分 Lora 兼容性较弱\n",
        "\n",
        "- Gakki | Aragaki Yui | 新垣結衣: https://civitai.com/models/8416/gakki-or-aragaki-yui-or\n",
        "- liuyifei: https://civitai.com/models/8453/liuyifei\n",
        "\n",
        "## 试验性 CheckPoints\n",
        "\n",
        "- [二次元] Grapefruit (hentai model): https://civitai.com/models/2583/grapefruit-hentai-model\n",
        "\n",
        "\n",
        "## 更新日志\n",
        "\n",
        "### 2023.2.18\n",
        "\n",
        "- 更新上游 ChilloutMix 最新版本\n",
        "\n",
        "### 2023.2.17\n",
        "\n",
        "- 新增 SunshineMix Checkpoint 作为 2.5D 作画的第二选择\n",
        "\n",
        "### 2023.2.16\n",
        "\n",
        "- 由于中途可能会出现突然退出的情况，所以提供多了一个再次启动的方案\n",
        "\n",
        "> Created by [@wibus-wee](https://github.com/wibus-wee)\n",
        ">\n",
        "> Reference: [camenduru/stable-diffusion-webui-colab](https://github.com/camenduru/stable-diffusion-webui-colab)"
      ],
      "metadata": {
        "id": "SKi-oMBwhutR"
      }
    },
    {
      "cell_type": "markdown",
      "source": [
        "# 第一次使用"
      ],
      "metadata": {
        "id": "EAUqpJbMpXRR"
      }
    },
    {
      "cell_type": "code",
      "execution_count": null,
      "metadata": {
        "id": "SaAJk33ppFw1"
      },
      "outputs": [],
      "source": [
        "!apt-get -y install -qq aria2\n",
        "!pip install -q https://github.com/camenduru/stable-diffusion-webui-colab/releases/download/0.0.16/xformers-0.0.16+814314d.d20230118-cp38-cp38-linux_x86_64.whl\n",
        "!pip install -q --pre triton\n",
        "\n",
        "!git clone -b v2.0 https://github.com/camenduru/stable-diffusion-webui\n",
        "!wget https://raw.githubusercontent.com/camenduru/stable-diffusion-webui-scripts/main/run_n_times.py -O /content/stable-diffusion-webui/scripts/run_n_times.py\n",
        "!git clone https://github.com/deforum-art/deforum-for-automatic1111-webui /content/stable-diffusion-webui/extensions/deforum-for-automatic1111-webui\n",
        "!git clone https://github.com/AlUlkesh/stable-diffusion-webui-images-browser /content/stable-diffusion-webui/extensions/stable-diffusion-webui-images-browser\n",
        "!git clone https://github.com/camenduru/stable-diffusion-webui-huggingface /content/stable-diffusion-webui/extensions/stable-diffusion-webui-huggingface\n",
        "!git clone -b v2.0 https://github.com/camenduru/sd-civitai-browser /content/stable-diffusion-webui/extensions/sd-civitai-browser\n",
        "!git clone https://github.com/kohya-ss/sd-webui-additional-networks /content/stable-diffusion-webui/extensions/sd-webui-additional-networks\n",
        "%cd /content/stable-diffusion-webui\n",
        "\n",
        "# ChilloutMix Checkpoint\n",
        "!aria2c --console-log-level=error -c -x 16 -s 16 -k 1M https://civitai.com/api/download/models/11745 -d /content/stable-diffusion-webui/models/Stable-diffusion -o chilloutmix.safetensors\n",
        "# SunshineMix Checkpoint\n",
        "# !aria2c --console-log-level=error -c -x 16 -s 16 -k 1M https://civitai.com/api/download/models/11752 -d /content/stable-diffusion-webui/models/Stable-diffusion -o sunshinemix.safetensors\n",
        "\n",
        "\n",
        "!sed -i -e '''/prepare_environment()/a\\    os.system\\(f\\\"\"\"sed -i -e ''\\\"s/self.logvar\\\\[t\\\\]/self.logvar\\\\[t.item()\\\\]/g\\\"'' /content/stable-diffusion-webui/repositories/stable-diffusion-stability-ai/ldm/models/diffusion/ddpm.py\"\"\")''' /content/stable-diffusion-webui/launch.py\n",
        "!sed -i -e '''/prepare_environment()/a\\    os.system\\(f\\\"\"\"sed -i -e ''\\\"s/dict()))/dict())).cuda()/g\\\"'' /content/stable-diffusion-webui/repositories/stable-diffusion-stability-ai/ldm/util.py\"\"\")''' /content/stable-diffusion-webui/launch.py\n",
        "!python launch.py --share --xformers --enable-insecure-extension-access"
      ]
    },
    {
      "cell_type": "markdown",
      "source": [
        "# 中途突然停止使用这个"
      ],
      "metadata": {
        "id": "SEQh1nJopSDr"
      }
    },
    {
      "cell_type": "code",
      "source": [
        "!sed -i -e '''/prepare_environment()/a\\    os.system\\(f\\\"\"\"sed -i -e ''\\\"s/self.logvar\\\\[t\\\\]/self.logvar\\\\[t.item()\\\\]/g\\\"'' /content/stable-diffusion-webui/repositories/stable-diffusion-stability-ai/ldm/models/diffusion/ddpm.py\"\"\")''' /content/stable-diffusion-webui/launch.py\n",
        "!sed -i -e '''/prepare_environment()/a\\    os.system\\(f\\\"\"\"sed -i -e ''\\\"s/dict()))/dict())).cuda()/g\\\"'' /content/stable-diffusion-webui/repositories/stable-diffusion-stability-ai/ldm/util.py\"\"\")''' /content/stable-diffusion-webui/launch.py\n",
        "!python launch.py --share --xformers --enable-insecure-extension-access"
      ],
      "metadata": {
        "id": "UilfY37zpOoK"
      },
      "execution_count": null,
      "outputs": []
    }
  ],
  "metadata": {
    "accelerator": "GPU",
    "colab": {
      "private_outputs": true,
      "provenance": [],
      "collapsed_sections": [
        "SEQh1nJopSDr"
      ]
    },
    "gpuClass": "standard",
    "kernelspec": {
      "display_name": "Python 3",
      "name": "python3"
    },
    "language_info": {
      "name": "python"
    }
  },
  "nbformat": 4,
  "nbformat_minor": 0
}